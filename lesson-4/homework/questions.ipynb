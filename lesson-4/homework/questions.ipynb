{
 "cells": [
  {
   "cell_type": "markdown",
   "id": "159d260a",
   "metadata": {},
   "source": [
    "Questions:\n",
    "\n",
    "1.What is the difference between the continue and break statements in Python?\n",
    "\n",
    "2.Can you explain the difference between for loop and while loop?\n",
    "\n",
    "3.How would you implement a nested for loop system? Provide an example."
   ]
  },
  {
   "cell_type": "markdown",
   "id": "fa40abb0",
   "metadata": {},
   "source": [
    "Answers:\n",
    "\n",
    "1.continue skips the current iteration and goes to the next iteration of the loop.\n",
    "\n",
    "break immediately stops the loop entirely.\n",
    "\n",
    "2.for loop is used when the number of iterations is known.\n",
    "\n",
    "while loop is used when the condition is more general, and you don’t necessarily know how many times you'll loop.\n",
    "\n",
    "3.A nested for loop is when one loop is inside another."
   ]
  },
  {
   "cell_type": "code",
   "execution_count": null,
   "id": "fdb72f91",
   "metadata": {
    "vscode": {
     "languageId": "plaintext"
    }
   },
   "outputs": [],
   "source": [
    "#example\n",
    "for i in range(3):\n",
    "    for j in range(2):\n",
    "        print(f\"i={i}, j={j}\")\n"
   ]
  }
 ],
 "metadata": {
  "language_info": {
   "name": "python"
  }
 },
 "nbformat": 4,
 "nbformat_minor": 5
}
